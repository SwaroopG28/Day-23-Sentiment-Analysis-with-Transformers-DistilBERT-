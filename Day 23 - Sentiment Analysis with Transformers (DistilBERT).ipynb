{
 "cells": [
  {
   "cell_type": "markdown",
   "id": "abef1702",
   "metadata": {},
   "source": [
    "#  Sentiment Analysis with Transformers (DistilBERT)"
   ]
  },
  {
   "cell_type": "code",
   "execution_count": 1,
   "id": "86da1fe7",
   "metadata": {},
   "outputs": [],
   "source": [
    "# Import necessary libraries\n",
    "from transformers import AutoTokenizer, AutoModelForSequenceClassification, pipeline\n",
    "import torch"
   ]
  },
  {
   "cell_type": "code",
   "execution_count": 2,
   "id": "48dc4b9b",
   "metadata": {},
   "outputs": [
    {
     "data": {
      "application/vnd.jupyter.widget-view+json": {
       "model_id": "8a6cd861f4c240b9994523dc8b2faa5b",
       "version_major": 2,
       "version_minor": 0
      },
      "text/plain": [
       "tokenizer_config.json:   0%|          | 0.00/48.0 [00:00<?, ?B/s]"
      ]
     },
     "metadata": {},
     "output_type": "display_data"
    },
    {
     "name": "stderr",
     "output_type": "stream",
     "text": [
      "C:\\Users\\swaro\\anaconda3\\Lib\\site-packages\\huggingface_hub\\file_download.py:140: UserWarning: `huggingface_hub` cache-system uses symlinks by default to efficiently store duplicated files but your machine does not support them in C:\\Users\\swaro\\.cache\\huggingface\\hub\\models--distilbert-base-uncased-finetuned-sst-2-english. Caching files will still work but in a degraded version that might require more space on your disk. This warning can be disabled by setting the `HF_HUB_DISABLE_SYMLINKS_WARNING` environment variable. For more details, see https://huggingface.co/docs/huggingface_hub/how-to-cache#limitations.\n",
      "To support symlinks on Windows, you either need to activate Developer Mode or to run Python as an administrator. In order to activate developer mode, see this article: https://docs.microsoft.com/en-us/windows/apps/get-started/enable-your-device-for-development\n",
      "  warnings.warn(message)\n"
     ]
    },
    {
     "data": {
      "application/vnd.jupyter.widget-view+json": {
       "model_id": "5495cb39aad04e768fe6a69aa4cfda47",
       "version_major": 2,
       "version_minor": 0
      },
      "text/plain": [
       "config.json:   0%|          | 0.00/629 [00:00<?, ?B/s]"
      ]
     },
     "metadata": {},
     "output_type": "display_data"
    },
    {
     "data": {
      "application/vnd.jupyter.widget-view+json": {
       "model_id": "a000af16f4b440debf006f7afd0d8792",
       "version_major": 2,
       "version_minor": 0
      },
      "text/plain": [
       "vocab.txt:   0%|          | 0.00/232k [00:00<?, ?B/s]"
      ]
     },
     "metadata": {},
     "output_type": "display_data"
    },
    {
     "data": {
      "application/vnd.jupyter.widget-view+json": {
       "model_id": "72646b8c91214d80994ac5f8cedcb6b3",
       "version_major": 2,
       "version_minor": 0
      },
      "text/plain": [
       "model.safetensors:   0%|          | 0.00/268M [00:00<?, ?B/s]"
      ]
     },
     "metadata": {},
     "output_type": "display_data"
    }
   ],
   "source": [
    "# Load pre-trained DistilBERT model and tokenizer\n",
    "model_name = \"distilbert-base-uncased-finetuned-sst-2-english\"  # Pre-trained on sentiment analysis\n",
    "tokenizer = AutoTokenizer.from_pretrained(model_name)\n",
    "model = AutoModelForSequenceClassification.from_pretrained(model_name)"
   ]
  },
  {
   "cell_type": "code",
   "execution_count": 3,
   "id": "1bbb9573",
   "metadata": {},
   "outputs": [
    {
     "name": "stderr",
     "output_type": "stream",
     "text": [
      "Device set to use cpu\n"
     ]
    }
   ],
   "source": [
    "# Define the pipeline for sentiment analysis\n",
    "sentiment_analyzer = pipeline(\"sentiment-analysis\", model=model, tokenizer=tokenizer)\n"
   ]
  },
  {
   "cell_type": "code",
   "execution_count": 4,
   "id": "3323a00f",
   "metadata": {},
   "outputs": [],
   "source": [
    "# Test with sample sentences\n",
    "sample_texts = [\n",
    "    \"I absolutely loved this product! It's fantastic.\",\n",
    "    \"This is the worst experience I've ever had.\",\n",
    "    \"The movie was okay, not great but not terrible.\",\n",
    "    \"I'm so happy with the service provided by the company.\",\n",
    "    \"I would not recommend this to anyone.\",\n",
    "]"
   ]
  },
  {
   "cell_type": "code",
   "execution_count": 5,
   "id": "bb5665aa",
   "metadata": {},
   "outputs": [
    {
     "name": "stdout",
     "output_type": "stream",
     "text": [
      "Text: I absolutely loved this product! It's fantastic.\n",
      "Sentiment: POSITIVE (Score: 0.9999)\n",
      "\n",
      "Text: This is the worst experience I've ever had.\n",
      "Sentiment: NEGATIVE (Score: 0.9998)\n",
      "\n",
      "Text: The movie was okay, not great but not terrible.\n",
      "Sentiment: POSITIVE (Score: 0.9777)\n",
      "\n",
      "Text: I'm so happy with the service provided by the company.\n",
      "Sentiment: POSITIVE (Score: 0.9999)\n",
      "\n",
      "Text: I would not recommend this to anyone.\n",
      "Sentiment: NEGATIVE (Score: 0.9577)\n",
      "\n"
     ]
    }
   ],
   "source": [
    "# Perform sentiment analysis\n",
    "for text in sample_texts:\n",
    "    result = sentiment_analyzer(text)\n",
    "    print(f\"Text: {text}\")\n",
    "    print(f\"Sentiment: {result[0]['label']} (Score: {result[0]['score']:.4f})\\n\")\n",
    "    "
   ]
  },
  {
   "cell_type": "code",
   "execution_count": 6,
   "id": "d17326f0",
   "metadata": {},
   "outputs": [
    {
     "data": {
      "text/plain": [
       "('./distilbert_sentiment_model\\\\tokenizer_config.json',\n",
       " './distilbert_sentiment_model\\\\special_tokens_map.json',\n",
       " './distilbert_sentiment_model\\\\vocab.txt',\n",
       " './distilbert_sentiment_model\\\\added_tokens.json',\n",
       " './distilbert_sentiment_model\\\\tokenizer.json')"
      ]
     },
     "execution_count": 6,
     "metadata": {},
     "output_type": "execute_result"
    }
   ],
   "source": [
    "# Save model and tokenizer for reuse\n",
    "model.save_pretrained(\"./distilbert_sentiment_model\")\n",
    "tokenizer.save_pretrained(\"./distilbert_sentiment_model\")"
   ]
  },
  {
   "cell_type": "code",
   "execution_count": null,
   "id": "562093ea",
   "metadata": {},
   "outputs": [],
   "source": []
  }
 ],
 "metadata": {
  "kernelspec": {
   "display_name": "Python 3 (ipykernel)",
   "language": "python",
   "name": "python3"
  },
  "language_info": {
   "codemirror_mode": {
    "name": "ipython",
    "version": 3
   },
   "file_extension": ".py",
   "mimetype": "text/x-python",
   "name": "python",
   "nbconvert_exporter": "python",
   "pygments_lexer": "ipython3",
   "version": "3.11.4"
  }
 },
 "nbformat": 4,
 "nbformat_minor": 5
}
